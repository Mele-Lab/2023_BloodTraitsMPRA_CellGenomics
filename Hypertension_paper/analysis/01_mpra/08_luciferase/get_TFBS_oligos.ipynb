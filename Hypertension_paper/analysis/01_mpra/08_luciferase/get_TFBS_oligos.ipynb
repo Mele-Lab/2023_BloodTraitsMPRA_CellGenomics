{
 "cells": [
  {
   "cell_type": "code",
   "execution_count": 6,
   "id": "b291b368",
   "metadata": {},
   "outputs": [],
   "source": [
    "import warnings\n",
    "warnings.filterwarnings('ignore')\n",
    "\n",
    "import itertools\n",
    "import pandas as pd\n",
    "import numpy as np\n",
    "import matplotlib as mpl\n",
    "import matplotlib.pyplot as plt\n",
    "import seaborn as sns\n",
    "import statsmodels.api as sm\n",
    "import statsmodels.formula.api as smf\n",
    "import sys\n"
   ]
  },
  {
   "cell_type": "markdown",
   "id": "707dac1a",
   "metadata": {},
   "source": [
    "## variables "
   ]
  },
  {
   "cell_type": "code",
   "execution_count": 1,
   "id": "86fa5044",
   "metadata": {},
   "outputs": [],
   "source": [
    "motif_dir = \"../../../data/03_fimo/FIMO_results/\"\n",
    "motifs_f = \"%s/hum_tf_PE/fimo.txt\" % motif_dir"
   ]
  },
  {
   "cell_type": "code",
   "execution_count": 3,
   "id": "6b13998c",
   "metadata": {},
   "outputs": [],
   "source": [
    "index_f = \"../../../data/design/Hypertension__pooled.index.txt\""
   ]
  },
  {
   "cell_type": "code",
   "execution_count": 4,
   "id": "42e1c525",
   "metadata": {},
   "outputs": [],
   "source": [
    "motif_info_dir = \"../../../data/03_fimo/Kaia_FIMO/\"\n",
    "motif_map_f = \"%s/curated_motif_map.txt\" % motif_info_dir\n",
    "motif_info_f = \"%s/motif_info.txt\" % motif_info_dir"
   ]
  },
  {
   "cell_type": "markdown",
   "id": "eaf79d0f",
   "metadata": {},
   "source": [
    "## 1. import data "
   ]
  },
  {
   "cell_type": "code",
   "execution_count": 7,
   "id": "471b8573",
   "metadata": {},
   "outputs": [
    {
     "data": {
      "text/html": [
       "<div>\n",
       "<style scoped>\n",
       "    .dataframe tbody tr th:only-of-type {\n",
       "        vertical-align: middle;\n",
       "    }\n",
       "\n",
       "    .dataframe tbody tr th {\n",
       "        vertical-align: top;\n",
       "    }\n",
       "\n",
       "    .dataframe thead th {\n",
       "        text-align: right;\n",
       "    }\n",
       "</style>\n",
       "<table border=\"1\" class=\"dataframe\">\n",
       "  <thead>\n",
       "    <tr style=\"text-align: right;\">\n",
       "      <th></th>\n",
       "      <th># motif_id</th>\n",
       "      <th>motif_alt_id</th>\n",
       "      <th>sequence_name</th>\n",
       "      <th>start</th>\n",
       "      <th>stop</th>\n",
       "      <th>strand</th>\n",
       "      <th>score</th>\n",
       "      <th>p-value</th>\n",
       "      <th>q-value</th>\n",
       "      <th>matched_sequence</th>\n",
       "    </tr>\n",
       "  </thead>\n",
       "  <tbody>\n",
       "    <tr>\n",
       "      <th>0</th>\n",
       "      <td>ZNF496</td>\n",
       "      <td>ZNF496</td>\n",
       "      <td>ULK4</td>\n",
       "      <td>1121</td>\n",
       "      <td>1150</td>\n",
       "      <td>-</td>\n",
       "      <td>52.6735</td>\n",
       "      <td>1.560000e-17</td>\n",
       "      <td>7.110000e-14</td>\n",
       "      <td>GTTGCCCAGGCTGGAGTGCAGTGGCATGAT</td>\n",
       "    </tr>\n",
       "    <tr>\n",
       "      <th>1</th>\n",
       "      <td>ZNF496</td>\n",
       "      <td>ZNF496</td>\n",
       "      <td>MAP4</td>\n",
       "      <td>291</td>\n",
       "      <td>320</td>\n",
       "      <td>-</td>\n",
       "      <td>52.5204</td>\n",
       "      <td>1.860000e-17</td>\n",
       "      <td>7.110000e-14</td>\n",
       "      <td>GTCACCCAGGCTGGAGTGCAGTGGCGCGAT</td>\n",
       "    </tr>\n",
       "    <tr>\n",
       "      <th>2</th>\n",
       "      <td>ZNF496</td>\n",
       "      <td>ZNF496</td>\n",
       "      <td>SMARCC1</td>\n",
       "      <td>198</td>\n",
       "      <td>227</td>\n",
       "      <td>-</td>\n",
       "      <td>46.0510</td>\n",
       "      <td>1.200000e-15</td>\n",
       "      <td>3.060000e-12</td>\n",
       "      <td>GTTGCCCAGACTGGAGTGCAGTGGCGCAAT</td>\n",
       "    </tr>\n",
       "    <tr>\n",
       "      <th>3</th>\n",
       "      <td>ZNF496</td>\n",
       "      <td>ZNF496</td>\n",
       "      <td>SMARCC1</td>\n",
       "      <td>312</td>\n",
       "      <td>341</td>\n",
       "      <td>-</td>\n",
       "      <td>44.7551</td>\n",
       "      <td>2.040000e-15</td>\n",
       "      <td>3.900000e-12</td>\n",
       "      <td>GTCGCCCAGGCTGGAGTGCAGTGGAGTGAT</td>\n",
       "    </tr>\n",
       "    <tr>\n",
       "      <th>4</th>\n",
       "      <td>ZNF235</td>\n",
       "      <td>ZNF235</td>\n",
       "      <td>MAP4</td>\n",
       "      <td>341</td>\n",
       "      <td>370</td>\n",
       "      <td>+</td>\n",
       "      <td>26.6733</td>\n",
       "      <td>1.150000e-10</td>\n",
       "      <td>8.100000e-07</td>\n",
       "      <td>AAAAAAAAAAAAAAAAAACATATTAAATTG</td>\n",
       "    </tr>\n",
       "  </tbody>\n",
       "</table>\n",
       "</div>"
      ],
      "text/plain": [
       "  # motif_id motif_alt_id sequence_name  start  stop strand    score  \\\n",
       "0     ZNF496       ZNF496          ULK4   1121  1150      -  52.6735   \n",
       "1     ZNF496       ZNF496          MAP4    291   320      -  52.5204   \n",
       "2     ZNF496       ZNF496       SMARCC1    198   227      -  46.0510   \n",
       "3     ZNF496       ZNF496       SMARCC1    312   341      -  44.7551   \n",
       "4     ZNF235       ZNF235          MAP4    341   370      +  26.6733   \n",
       "\n",
       "        p-value       q-value                matched_sequence  \n",
       "0  1.560000e-17  7.110000e-14  GTTGCCCAGGCTGGAGTGCAGTGGCATGAT  \n",
       "1  1.860000e-17  7.110000e-14  GTCACCCAGGCTGGAGTGCAGTGGCGCGAT  \n",
       "2  1.200000e-15  3.060000e-12  GTTGCCCAGACTGGAGTGCAGTGGCGCAAT  \n",
       "3  2.040000e-15  3.900000e-12  GTCGCCCAGGCTGGAGTGCAGTGGAGTGAT  \n",
       "4  1.150000e-10  8.100000e-07  AAAAAAAAAAAAAAAAAACATATTAAATTG  "
      ]
     },
     "execution_count": 7,
     "metadata": {},
     "output_type": "execute_result"
    }
   ],
   "source": [
    "motifs = pd.read_table(motifs_f, sep=\"\\t\")\n",
    "motifs.head()"
   ]
  },
  {
   "cell_type": "code",
   "execution_count": 8,
   "id": "a7706b47",
   "metadata": {},
   "outputs": [
    {
     "data": {
      "text/html": [
       "<div>\n",
       "<style scoped>\n",
       "    .dataframe tbody tr th:only-of-type {\n",
       "        vertical-align: middle;\n",
       "    }\n",
       "\n",
       "    .dataframe tbody tr th {\n",
       "        vertical-align: top;\n",
       "    }\n",
       "\n",
       "    .dataframe thead th {\n",
       "        text-align: right;\n",
       "    }\n",
       "</style>\n",
       "<table border=\"1\" class=\"dataframe\">\n",
       "  <thead>\n",
       "    <tr style=\"text-align: right;\">\n",
       "      <th></th>\n",
       "      <th>index</th>\n",
       "      <th>gene_id</th>\n",
       "      <th>gene_name</th>\n",
       "    </tr>\n",
       "  </thead>\n",
       "  <tbody>\n",
       "    <tr>\n",
       "      <th>0</th>\n",
       "      <td>HKR1</td>\n",
       "      <td>ENSG00000181666</td>\n",
       "      <td>HKR1</td>\n",
       "    </tr>\n",
       "    <tr>\n",
       "      <th>1</th>\n",
       "      <td>M00117_1</td>\n",
       "      <td>ENSG00000137203</td>\n",
       "      <td>TFAP2A</td>\n",
       "    </tr>\n",
       "    <tr>\n",
       "      <th>2</th>\n",
       "      <td>M00118_1</td>\n",
       "      <td>ENSG00000137203</td>\n",
       "      <td>TFAP2A</td>\n",
       "    </tr>\n",
       "    <tr>\n",
       "      <th>3</th>\n",
       "      <td>M00119_1</td>\n",
       "      <td>ENSG00000137203</td>\n",
       "      <td>TFAP2A</td>\n",
       "    </tr>\n",
       "    <tr>\n",
       "      <th>4</th>\n",
       "      <td>M00120_1</td>\n",
       "      <td>ENSG00000137203</td>\n",
       "      <td>TFAP2A</td>\n",
       "    </tr>\n",
       "  </tbody>\n",
       "</table>\n",
       "</div>"
      ],
      "text/plain": [
       "      index          gene_id gene_name\n",
       "0      HKR1  ENSG00000181666      HKR1\n",
       "1  M00117_1  ENSG00000137203    TFAP2A\n",
       "2  M00118_1  ENSG00000137203    TFAP2A\n",
       "3  M00119_1  ENSG00000137203    TFAP2A\n",
       "4  M00120_1  ENSG00000137203    TFAP2A"
      ]
     },
     "execution_count": 8,
     "metadata": {},
     "output_type": "execute_result"
    }
   ],
   "source": [
    "motif_map = pd.read_table(motif_map_f, sep=\"\\t\")\n",
    "motif_map.head()"
   ]
  },
  {
   "cell_type": "code",
   "execution_count": 9,
   "id": "b822d39d",
   "metadata": {},
   "outputs": [
    {
     "data": {
      "text/html": [
       "<div>\n",
       "<style scoped>\n",
       "    .dataframe tbody tr th:only-of-type {\n",
       "        vertical-align: middle;\n",
       "    }\n",
       "\n",
       "    .dataframe tbody tr th {\n",
       "        vertical-align: top;\n",
       "    }\n",
       "\n",
       "    .dataframe thead th {\n",
       "        text-align: right;\n",
       "    }\n",
       "</style>\n",
       "<table border=\"1\" class=\"dataframe\">\n",
       "  <thead>\n",
       "    <tr style=\"text-align: right;\">\n",
       "      <th></th>\n",
       "      <th>Ensembl ID</th>\n",
       "      <th>HGNC symbol</th>\n",
       "      <th>Motif evidence</th>\n",
       "      <th>Motif ID</th>\n",
       "      <th>Motif type</th>\n",
       "      <th>Motif source</th>\n",
       "      <th>CIS-BP ID</th>\n",
       "      <th>Best Motif(s)? (Figure 2A)</th>\n",
       "    </tr>\n",
       "  </thead>\n",
       "  <tbody>\n",
       "    <tr>\n",
       "      <th>0</th>\n",
       "      <td>ENSG00000267281</td>\n",
       "      <td>AC023509.3</td>\n",
       "      <td>Inferred - ATF7 (100% AA Identity, Homo sapiens)</td>\n",
       "      <td>ATF7_eDBD_HT-SELEX</td>\n",
       "      <td>HT-SELEX</td>\n",
       "      <td>Yin2017</td>\n",
       "      <td>M08490_1.94d</td>\n",
       "      <td>True</td>\n",
       "    </tr>\n",
       "    <tr>\n",
       "      <th>1</th>\n",
       "      <td>ENSG00000267281</td>\n",
       "      <td>AC023509.3</td>\n",
       "      <td>Inferred - ATF7 (100% AA Identity, Homo sapiens)</td>\n",
       "      <td>ATF7_eDBD_Methyl-HT-SELEX</td>\n",
       "      <td>Methyl-HT-SELEX</td>\n",
       "      <td>Yin2017</td>\n",
       "      <td>M08491_1.94d</td>\n",
       "      <td>NaN</td>\n",
       "    </tr>\n",
       "    <tr>\n",
       "      <th>2</th>\n",
       "      <td>ENSG00000267281</td>\n",
       "      <td>AC023509.3</td>\n",
       "      <td>Inferred - Atf7 (98% AA Identity, Mus musculus)</td>\n",
       "      <td>3T3L1-Atf7_GSE56872</td>\n",
       "      <td>Misc</td>\n",
       "      <td>HOMER</td>\n",
       "      <td>M06975_1.94d</td>\n",
       "      <td>NaN</td>\n",
       "    </tr>\n",
       "    <tr>\n",
       "      <th>3</th>\n",
       "      <td>ENSG00000264668</td>\n",
       "      <td>AC138696.1</td>\n",
       "      <td>Inferred - ZFP41 (100% AA Identity, Homo sapiens)</td>\n",
       "      <td>ZFP41_FL_HT-SELEX</td>\n",
       "      <td>HT-SELEX</td>\n",
       "      <td>Yin2017</td>\n",
       "      <td>M09315_1.94d</td>\n",
       "      <td>True</td>\n",
       "    </tr>\n",
       "    <tr>\n",
       "      <th>4</th>\n",
       "      <td>ENSG00000264668</td>\n",
       "      <td>AC138696.1</td>\n",
       "      <td>Inferred - ZFP41 (100% AA Identity, Homo sapiens)</td>\n",
       "      <td>ZFP41_FL_Methyl-HT-SELEX</td>\n",
       "      <td>Methyl-HT-SELEX</td>\n",
       "      <td>Yin2017</td>\n",
       "      <td>M09316_1.94d</td>\n",
       "      <td>NaN</td>\n",
       "    </tr>\n",
       "  </tbody>\n",
       "</table>\n",
       "</div>"
      ],
      "text/plain": [
       "        Ensembl ID HGNC symbol  \\\n",
       "0  ENSG00000267281  AC023509.3   \n",
       "1  ENSG00000267281  AC023509.3   \n",
       "2  ENSG00000267281  AC023509.3   \n",
       "3  ENSG00000264668  AC138696.1   \n",
       "4  ENSG00000264668  AC138696.1   \n",
       "\n",
       "                                      Motif evidence  \\\n",
       "0   Inferred - ATF7 (100% AA Identity, Homo sapiens)   \n",
       "1   Inferred - ATF7 (100% AA Identity, Homo sapiens)   \n",
       "2    Inferred - Atf7 (98% AA Identity, Mus musculus)   \n",
       "3  Inferred - ZFP41 (100% AA Identity, Homo sapiens)   \n",
       "4  Inferred - ZFP41 (100% AA Identity, Homo sapiens)   \n",
       "\n",
       "                    Motif ID       Motif type Motif source     CIS-BP ID  \\\n",
       "0         ATF7_eDBD_HT-SELEX         HT-SELEX      Yin2017  M08490_1.94d   \n",
       "1  ATF7_eDBD_Methyl-HT-SELEX  Methyl-HT-SELEX      Yin2017  M08491_1.94d   \n",
       "2        3T3L1-Atf7_GSE56872             Misc        HOMER  M06975_1.94d   \n",
       "3          ZFP41_FL_HT-SELEX         HT-SELEX      Yin2017  M09315_1.94d   \n",
       "4   ZFP41_FL_Methyl-HT-SELEX  Methyl-HT-SELEX      Yin2017  M09316_1.94d   \n",
       "\n",
       "  Best Motif(s)? (Figure 2A)  \n",
       "0                       True  \n",
       "1                        NaN  \n",
       "2                        NaN  \n",
       "3                       True  \n",
       "4                        NaN  "
      ]
     },
     "execution_count": 9,
     "metadata": {},
     "output_type": "execute_result"
    }
   ],
   "source": [
    "motif_info = pd.read_table(motif_info_f, sep=\"\\t\")\n",
    "motif_info.head()"
   ]
  },
  {
   "cell_type": "code",
   "execution_count": 11,
   "id": "e6d34b12",
   "metadata": {},
   "outputs": [
    {
     "data": {
      "text/plain": [
       "1496"
      ]
     },
     "execution_count": 11,
     "metadata": {},
     "output_type": "execute_result"
    }
   ],
   "source": [
    "# only analyze the \"best\" motifs as determined by lambert et al\n",
    "best_motifs = motif_info[~pd.isnull(motif_info[\"Best Motif(s)? (Figure 2A)\"])]\n",
    "len(best_motifs)"
   ]
  },
  {
   "cell_type": "code",
   "execution_count": 12,
   "id": "43a44713",
   "metadata": {},
   "outputs": [
    {
     "data": {
      "text/plain": [
       "5937"
      ]
     },
     "execution_count": 12,
     "metadata": {},
     "output_type": "execute_result"
    }
   ],
   "source": [
    "len(motifs)"
   ]
  },
  {
   "cell_type": "code",
   "execution_count": 13,
   "id": "fe5ff463",
   "metadata": {},
   "outputs": [
    {
     "data": {
      "text/plain": [
       "2029"
      ]
     },
     "execution_count": 13,
     "metadata": {},
     "output_type": "execute_result"
    }
   ],
   "source": [
    "best_motifs[\"short_id\"] = best_motifs[\"CIS-BP ID\"].str.split(\".\", expand=True)[0]\n",
    "#motifs[\"short_id\"] = motifs[\"# motif_id\"].str.split(\".\", expand=True)[0]\n",
    "mapped_best_motifs = motifs[motifs[\"# motif_id\"].isin(best_motifs[\"short_id\"])]\n",
    "len(mapped_best_motifs)"
   ]
  },
  {
   "cell_type": "code",
   "execution_count": 18,
   "id": "470defb5",
   "metadata": {},
   "outputs": [],
   "source": [
    "mapped_best_motifs.to_csv('mapped_best_motifs_luciferase.txt', sep='\\t', index=False)\n",
    "motifs.to_csv('mapped_motifs_luciferase.txt', sep='\\t', index=False)"
   ]
  },
  {
   "cell_type": "code",
   "execution_count": null,
   "id": "8c5c91a3",
   "metadata": {},
   "outputs": [],
   "source": []
  }
 ],
 "metadata": {
  "kernelspec": {
   "display_name": "Python 3 (ipykernel)",
   "language": "python",
   "name": "python3"
  },
  "language_info": {
   "codemirror_mode": {
    "name": "ipython",
    "version": 3
   },
   "file_extension": ".py",
   "mimetype": "text/x-python",
   "name": "python",
   "nbconvert_exporter": "python",
   "pygments_lexer": "ipython3",
   "version": "3.8.10"
  }
 },
 "nbformat": 4,
 "nbformat_minor": 5
}
