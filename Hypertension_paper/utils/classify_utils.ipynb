{
 "cells": [
  {
   "cell_type": "code",
   "execution_count": 1,
   "metadata": {},
   "outputs": [],
   "source": [
    "import pandas as pd\n",
    "import numpy as np"
   ]
  },
  {
   "cell_type": "code",
   "execution_count": 4,
   "metadata": {},
   "outputs": [],
   "source": [
    "def fix_ctrl_id(row):\n",
    "    if \"CONTROL\" in row[\"index\"]:\n",
    "        tile_num = row[\"index\"].split(\"__\")[0].split(\":\")[1]\n",
    "        samp_num = row[\"index\"].split(\"__\")[1].split(\":\")[1]\n",
    "        new_id = \"ctrl.%s__CONTROL__samp.%s__CONTROL\" % (tile_num, samp_num)\n",
    "        return new_id\n",
    "    else:\n",
    "        return row[\"index\"]"
   ]
  },
  {
   "cell_type": "code",
   "execution_count": 2,
   "metadata": {},
   "outputs": [],
   "source": [
    "def biotype_switch_clean(row):\n",
    "    if row.cleaner_biotype_hg19 == row.cleaner_biotype_mm9:\n",
    "        return row.cleaner_biotype_hg19\n",
    "    elif row.cleaner_biotype_hg19 == \"no CAGE activity\":\n",
    "        other = row.cleaner_biotype_mm9\n",
    "        return \"CAGE turnover - %s\" % other\n",
    "    elif row.cleaner_biotype_mm9 == \"no CAGE activity\":\n",
    "        other = row.cleaner_biotype_hg19\n",
    "        return \"CAGE turnover - %s\" % other\n",
    "    elif \"reclassified\" in row.cleaner_biotype_hg19 or \"reclassified\" in row.cleaner_biotype_mm9:\n",
    "        return \"reclassified\"\n",
    "    else:\n",
    "        return \"biotype switch\""
   ]
  },
  {
   "cell_type": "code",
   "execution_count": 3,
   "metadata": {},
   "outputs": [],
   "source": [
    "def biotype_switch_minimal(row):\n",
    "    if row.minimal_biotype_hg19 == row.minimal_biotype_mm9:\n",
    "        return row.minimal_biotype_hg19\n",
    "    elif row.minimal_biotype_hg19 == \"no CAGE activity\":\n",
    "        other = row.minimal_biotype_mm9\n",
    "        return \"CAGE turnover - %s\" % other\n",
    "    elif row.minimal_biotype_mm9 == \"no CAGE activity\":\n",
    "        other = row.minimal_biotype_hg19\n",
    "        return \"CAGE turnover - %s\" % other\n",
    "    elif \"reclassified\" in row.minimal_biotype_hg19 or \"reclassified\" in row.minimal_biotype_mm9:\n",
    "        return \"reclassified\"\n",
    "    else:\n",
    "        return \"biotype switch\""
   ]
  },
  {
   "cell_type": "code",
   "execution_count": 5,
   "metadata": {},
   "outputs": [],
   "source": [
    "def is_ctrl(row):\n",
    "    if \"CONTROL\" in row[\"index\"]:\n",
    "        return \"control\"\n",
    "    else:\n",
    "        return \"TSS\""
   ]
  },
  {
   "cell_type": "code",
   "execution_count": 6,
   "metadata": {},
   "outputs": [],
   "source": [
    "def comp_status(row, fdr_col, thresh, txt):\n",
    "    if row[fdr_col] < thresh:\n",
    "        return \"significant %s effect\" % txt\n",
    "    else:\n",
    "        return \"no %s effect\" % txt"
   ]
  },
  {
   "cell_type": "code",
   "execution_count": 7,
   "metadata": {},
   "outputs": [],
   "source": [
    "def comp_status_stringent(row, status_col, l2fc_col, l2fc_thresh, txt):\n",
    "    if \"significant\" in row[status_col]:\n",
    "        if np.abs(row[l2fc_col]) > l2fc_thresh:\n",
    "            return \"significant %s effect\" % txt\n",
    "        else:\n",
    "            return \"no %s effect\" % txt\n",
    "    else:\n",
    "        return \"no %s effect\" % txt"
   ]
  },
  {
   "cell_type": "code",
   "execution_count": 8,
   "metadata": {},
   "outputs": [],
   "source": [
    "def comp_status_detail(row, status_col, logFC_col, txt):\n",
    "    if \"significant\" in row[status_col]:\n",
    "        if row[logFC_col] < 0:\n",
    "            return \"%s effect\\n(higher in human)\" % txt\n",
    "        else:\n",
    "            return \"%s effect\\n(higher in mouse)\" % txt\n",
    "    else:\n",
    "        return \"no %s effect\" % txt"
   ]
  },
  {
   "cell_type": "code",
   "execution_count": 9,
   "metadata": {},
   "outputs": [],
   "source": [
    "def comp_status_one(row, status_col1, status_col2, txt):\n",
    "    if \"significant\" in row[status_col1] or \"significant\" in row[status_col2]:\n",
    "        return \"significant %s effect\" % txt\n",
    "    else:\n",
    "        return \"no %s effect\" % txt"
   ]
  },
  {
   "cell_type": "code",
   "execution_count": 10,
   "metadata": {},
   "outputs": [],
   "source": [
    "def comp_status_detail_one(row, status_col1, status_col2, logFC_col1, logFC_col2, txt):\n",
    "    if \"significant\" in row[status_col1]:\n",
    "        if \"significant\" in row[status_col2]:\n",
    "            # 2 sig effects: check both\n",
    "            if row[logFC_col1] < 0 and row[logFC_col2] < 0:\n",
    "                return \"%s effect\\n(higher in human)\" % txt\n",
    "            elif row[logFC_col1] > 0 and row[logFC_col2] > 0:\n",
    "                return \"%s effect\\n(higher in mouse)\" % txt\n",
    "            else:\n",
    "                return \"%s effect\\n(direction interaction)\" % txt\n",
    "        else:\n",
    "            if row[logFC_col1] < 0:\n",
    "                return \"%s effect\\n(higher in human)\" % txt\n",
    "            else:\n",
    "                return \"%s effect\\n(higher in mouse)\" % txt\n",
    "    else:\n",
    "        if \"significant\" in row[status_col2]:\n",
    "            if row[logFC_col2] < 0:\n",
    "                return \"%s effect\\n(higher in human)\" % txt\n",
    "            else:\n",
    "                return \"%s effect\\n(higher in mouse)\" % txt\n",
    "        else:\n",
    "            # no sig effects\n",
    "            return \"no %s effect\" % txt"
   ]
  },
  {
   "cell_type": "code",
   "execution_count": 11,
   "metadata": {},
   "outputs": [],
   "source": [
    "def signed_max(nums):\n",
    "    abs_nums = np.abs(nums)\n",
    "    max_idx = np.argmax(abs_nums)\n",
    "    return nums[max_idx]"
   ]
  },
  {
   "cell_type": "code",
   "execution_count": 12,
   "metadata": {},
   "outputs": [],
   "source": [
    "def comp_logFC_one(row, status_col1, status_col2, logFC_col1, logFC_col2):\n",
    "    if \"significant\" in row[status_col1]:\n",
    "        if \"significant\" in row[status_col2]:\n",
    "            # 2 sig trans effects: take max of both\n",
    "            l2fcs = list(row[[logFC_col1, logFC_col2]])\n",
    "            return signed_max(l2fcs)\n",
    "        else:\n",
    "            return row[logFC_col1]\n",
    "    else:\n",
    "        if \"significant\" in row[status_col2]:\n",
    "            return row[logFC_col2]\n",
    "        else:\n",
    "            # no sig effects: take max of both\n",
    "            l2fcs = list(row[[logFC_col1, logFC_col2]])\n",
    "            return signed_max(l2fcs)"
   ]
  },
  {
   "cell_type": "code",
   "execution_count": null,
   "metadata": {},
   "outputs": [],
   "source": []
  }
 ],
 "metadata": {
  "kernelspec": {
   "display_name": "Python [conda env:py3]",
   "language": "python",
   "name": "conda-env-py3-py"
  },
  "language_info": {
   "codemirror_mode": {
    "name": "ipython",
    "version": 3
   },
   "file_extension": ".py",
   "mimetype": "text/x-python",
   "name": "python",
   "nbconvert_exporter": "python",
   "pygments_lexer": "ipython3",
   "version": "3.6.3"
  }
 },
 "nbformat": 4,
 "nbformat_minor": 2
}
